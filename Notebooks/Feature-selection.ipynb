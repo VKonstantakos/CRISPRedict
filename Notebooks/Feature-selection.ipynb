{
 "cells": [
  {
   "cell_type": "markdown",
   "metadata": {
    "id": "liaVZOJOPDq_"
   },
   "source": [
    "## Import libraries and functions"
   ]
  },
  {
   "cell_type": "code",
   "execution_count": null,
   "metadata": {},
   "outputs": [],
   "source": [
    "import sys\n",
    "import json\n",
    "import glob\n",
    "import numpy as np\n",
    "import pandas as pd\n",
    "from sklearn.svm import SVR\n",
    "from xgboost import XGBRegressor\n",
    "from sklearn.metrics import make_scorer\n",
    "from sklearn.tree import DecisionTreeRegressor\n",
    "from sklearn.ensemble import RandomForestRegressor\n",
    "from sklearn.model_selection import KFold, cross_val_score\n",
    "from sklearn.linear_model import LassoCV, RidgeCV, LinearRegression\n",
    "\n",
    "sys.path.append('../Scripts')"
   ]
  },
  {
   "cell_type": "code",
   "execution_count": null,
   "metadata": {},
   "outputs": [],
   "source": [
    "from analysis import *\n",
    "from features import *\n",
    "from processing import *\n",
    "from feature_selection import *\n",
    "\n",
    "# Scoring (Spearman correlation)\n",
    "spearman = make_scorer(Spearman)"
   ]
  },
  {
   "cell_type": "markdown",
   "metadata": {
    "id": "wXoSygzjPPxF"
   },
   "source": [
    "## Load data"
   ]
  },
  {
   "cell_type": "code",
   "execution_count": null,
   "metadata": {},
   "outputs": [],
   "source": [
    "datasets = ['../Data/2. Training datasets/DeepSpCas9 (Library).csv',\n",
    "            '../Data/2. Training datasets/Moreno-Mateos.csv']\n",
    "\n",
    "# Select dataset for training/feature extraction\n",
    "ds = pd.read_csv(datasets[0])\n",
    "\n",
    "# Define X, Y\n",
    "X = ds['30-nt sequence']\n",
    "Y_train = ds['modFreq']\n",
    "\n",
    "# Create initial features\n",
    "X_train = feature_train(X)\n",
    "\n",
    "# Create final features based on the appropriate promoter (for comparison)\n",
    "X_seq = seq_train(X, promoter='u6')\n",
    "\n",
    "print(X_train.shape, X_seq.shape)"
   ]
  },
  {
   "cell_type": "markdown",
   "metadata": {
    "id": "jzmc1tLeR_gp"
   },
   "source": [
    "## Feature selection"
   ]
  },
  {
   "cell_type": "markdown",
   "metadata": {
    "id": "ktpiENl-gb6l"
   },
   "source": [
    "### LASSO coefficients"
   ]
  },
  {
   "cell_type": "markdown",
   "metadata": {
    "id": "FtXBHohZzOvu"
   },
   "source": [
    "Keep the features with non-zero coefficients."
   ]
  },
  {
   "cell_type": "code",
   "execution_count": null,
   "metadata": {},
   "outputs": [],
   "source": [
    "thresh = 1e-06\n",
    "model = LassoCV(random_state=42)\n",
    "\n",
    "X_lasso = feature_importance(model, X_train, Y_train, threshold=thresh, save=True)"
   ]
  },
  {
   "cell_type": "markdown",
   "metadata": {
    "id": "H8BvIpuVYVhx"
   },
   "source": [
    "### RFECV"
   ]
  },
  {
   "cell_type": "markdown",
   "metadata": {
    "id": "4vHDPlN8HwhM"
   },
   "source": [
    "Find the optimal number of features using RFECV."
   ]
  },
  {
   "cell_type": "code",
   "execution_count": null,
   "metadata": {},
   "outputs": [],
   "source": [
    "# Model and CV split\n",
    "model = LassoCV(random_state=42)\n",
    "k_fold = KFold(n_splits=5, shuffle=True, random_state=42)\n",
    "\n",
    "X_lasso_red = rfecv_selection(model, X_lasso, Y_train, cv=k_fold, scoring=spearman, figure=True, save=True)"
   ]
  },
  {
   "cell_type": "markdown",
   "metadata": {
    "id": "G8Ze4Qmg5k0W"
   },
   "source": [
    "### Genetic Algorithm search"
   ]
  },
  {
   "cell_type": "code",
   "execution_count": null,
   "metadata": {},
   "outputs": [],
   "source": [
    "# Model and CV split\n",
    "model = RidgeCV()\n",
    "k_fold = KFold(n_splits=5, shuffle=True, random_state=42)\n",
    "\n",
    "X_ga = ga_selection(model, X_lasso, Y_train, cv=k_fold, scoring=spearman, max_features=10, save=True)"
   ]
  },
  {
   "cell_type": "markdown",
   "metadata": {
    "id": "3mHDVgdkbn3Q"
   },
   "source": [
    "## Evaluate with 10-fold Cross Validation"
   ]
  },
  {
   "cell_type": "code",
   "execution_count": null,
   "metadata": {},
   "outputs": [],
   "source": [
    "# Define models and CV strategy\n",
    "models = []\n",
    "kfold = KFold(n_splits=10, shuffle=True, random_state=42)\n",
    "\n",
    "models.append(('XGB', XGBRegressor(objective='reg:squarederror', random_state=42)))\n",
    "models.append((' LR', LinearRegression()))\n",
    "models.append((' DT', DecisionTreeRegressor(random_state=42)))\n",
    "models.append(('SVR', SVR(gamma='auto')))\n",
    "models.append(('RFR', RandomForestRegressor(n_estimators=100, random_state=42)))\n",
    "\n",
    "# Evaluate each model in turn\n",
    "for name, model in models:\n",
    "    cv_results = cross_val_score(model, X_seq, Y_train, cv=kfold, scoring=spearman)\n",
    "    print(\"%s: %.3f (%f)\" % (name, cv_results.mean(), cv_results.std()))"
   ]
  }
 ],
 "metadata": {
  "colab": {
   "collapsed_sections": [],
   "name": "Feature selection pipeline.ipynb",
   "provenance": []
  },
  "kernelspec": {
   "display_name": "Python 3 (ipykernel)",
   "language": "python",
   "name": "python3"
  },
  "language_info": {
   "codemirror_mode": {
    "name": "ipython",
    "version": 3
   },
   "file_extension": ".py",
   "mimetype": "text/x-python",
   "name": "python",
   "nbconvert_exporter": "python",
   "pygments_lexer": "ipython3",
   "version": "3.7.12"
  }
 },
 "nbformat": 4,
 "nbformat_minor": 1
}
