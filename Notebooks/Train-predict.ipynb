{
 "cells": [
  {
   "cell_type": "markdown",
   "metadata": {
    "id": "E7vEMHQEdxbd"
   },
   "source": [
    "## Import libraries and functions"
   ]
  },
  {
   "cell_type": "code",
   "execution_count": null,
   "metadata": {},
   "outputs": [],
   "source": [
    "import sys\n",
    "import numpy as np\n",
    "import pandas as pd\n",
    "\n",
    "sys.path.append('../Scripts')\n",
    "\n",
    "from train import *\n",
    "from predict import *\n",
    "from features import *\n",
    "from processing import *"
   ]
  },
  {
   "cell_type": "markdown",
   "metadata": {
    "id": "QzazCD1XTDLz"
   },
   "source": [
    "## Create Moreno-Mateos training dataset"
   ]
  },
  {
   "cell_type": "code",
   "execution_count": 2,
   "metadata": {
    "id": "6TCyq1xy540S"
   },
   "outputs": [],
   "source": [
    "# Load original dataset\n",
    "ds = pd.read_excel('../Data/1. Original datasets/Haeussler.xlsx')\n",
    "\n",
    "# Extract sequences and efficiency\n",
    "seq_23, seq_30, eff = extract_haeussler(ds, 'morenoMateos')\n",
    "\n",
    "# Create new dataframe with rescaled efficiency\n",
    "moreno = pd.DataFrame({'23-nt sequence': seq_23, '30-nt sequence': seq_30, 'modFreq': eff})\n",
    "moreno['modFreq'] = rescale(moreno, 3)\n",
    "\n",
    "# Save modified training dataset\n",
    "moreno.to_csv('Moreno-Mateos.csv', index=False)"
   ]
  },
  {
   "cell_type": "markdown",
   "metadata": {
    "id": "IfcQiS0zNNg-"
   },
   "source": [
    "## Train"
   ]
  },
  {
   "cell_type": "code",
   "execution_count": 3,
   "metadata": {},
   "outputs": [
    {
     "name": "stdout",
     "output_type": "stream",
     "text": [
      "Optimization terminated successfully.\n",
      "         Current function value: 0.323759\n",
      "         Iterations 8\n"
     ]
    }
   ],
   "source": [
    "# Train a U6 Regressor\n",
    "reg_model = train_model(promoter='u6', classifier=False, save=True)\n",
    "\n",
    "# Train a T7 Classifier\n",
    "cls_model = train_model(promoter='t7', classifier=True, save=True)"
   ]
  },
  {
   "cell_type": "markdown",
   "metadata": {
    "id": "_HXLcSu5NPJJ"
   },
   "source": [
    "## Predict"
   ]
  },
  {
   "cell_type": "markdown",
   "metadata": {
    "id": "h5Go6cgagz2w"
   },
   "source": [
    "### Predict the efficiency of a sequence"
   ]
  },
  {
   "cell_type": "code",
   "execution_count": 4,
   "metadata": {},
   "outputs": [
    {
     "name": "stdout",
     "output_type": "stream",
     "text": [
      "Prediction of U6 Regression model: 0.6896745020642117\n",
      "Prediction of T7 Classification model: (0.0321939694071364, 0)\n"
     ]
    }
   ],
   "source": [
    "seq = 'TTCACAGTCATACCTATAACAGCGAGGTTC'\n",
    "reg_pred = predict_sequence(seq, promoter='u6', classifier=False)\n",
    "cls_pred = predict_sequence(seq, promoter='t7', classifier=True)\n",
    "\n",
    "print(f'Prediction of U6 Regression model: {reg_pred}')\n",
    "print(f'Prediction of T7 Classification model: {cls_pred}')"
   ]
  },
  {
   "cell_type": "markdown",
   "metadata": {
    "id": "nLB5wFZKg2vh"
   },
   "source": [
    "### Predict the efficiencies of multiple sequences from a file"
   ]
  },
  {
   "cell_type": "code",
   "execution_count": 5,
   "metadata": {},
   "outputs": [
    {
     "data": {
      "text/html": [
       "<div>\n",
       "<style scoped>\n",
       "    .dataframe tbody tr th:only-of-type {\n",
       "        vertical-align: middle;\n",
       "    }\n",
       "\n",
       "    .dataframe tbody tr th {\n",
       "        vertical-align: top;\n",
       "    }\n",
       "\n",
       "    .dataframe thead th {\n",
       "        text-align: right;\n",
       "    }\n",
       "</style>\n",
       "<table border=\"1\" class=\"dataframe\">\n",
       "  <thead>\n",
       "    <tr style=\"text-align: right;\">\n",
       "      <th></th>\n",
       "      <th>Sequence ID</th>\n",
       "      <th>30-nt sequence</th>\n",
       "      <th>Prediction</th>\n",
       "    </tr>\n",
       "  </thead>\n",
       "  <tbody>\n",
       "    <tr>\n",
       "      <th>0</th>\n",
       "      <td>0</td>\n",
       "      <td>TTCACAGTCATACCTATAACAGCGAGGTTC</td>\n",
       "      <td>0.689675</td>\n",
       "    </tr>\n",
       "    <tr>\n",
       "      <th>1</th>\n",
       "      <td>1</td>\n",
       "      <td>TTGCAGGTATGTAAGTAATCATAGTGGAGA</td>\n",
       "      <td>0.596946</td>\n",
       "    </tr>\n",
       "    <tr>\n",
       "      <th>2</th>\n",
       "      <td>2</td>\n",
       "      <td>AGCCAGTCTACATAACACGCCCATGGGCGC</td>\n",
       "      <td>0.595669</td>\n",
       "    </tr>\n",
       "    <tr>\n",
       "      <th>3</th>\n",
       "      <td>3</td>\n",
       "      <td>CGTACGCAACCTGCTCAGCGCCTACGGCGA</td>\n",
       "      <td>0.291837</td>\n",
       "    </tr>\n",
       "    <tr>\n",
       "      <th>4</th>\n",
       "      <td>4</td>\n",
       "      <td>GCTGAGCAGGTTGCGTACGTGAAGGGGCCG</td>\n",
       "      <td>0.418130</td>\n",
       "    </tr>\n",
       "    <tr>\n",
       "      <th>...</th>\n",
       "      <td>...</td>\n",
       "      <td>...</td>\n",
       "      <td>...</td>\n",
       "    </tr>\n",
       "    <tr>\n",
       "      <th>1059</th>\n",
       "      <td>1059</td>\n",
       "      <td>ATTGTAGCATCAAAATTTGGGACCTGGCTC</td>\n",
       "      <td>0.343832</td>\n",
       "    </tr>\n",
       "    <tr>\n",
       "      <th>1060</th>\n",
       "      <td>1060</td>\n",
       "      <td>GCCGCCTGCTACGTCGTGCGCGGCGGGACC</td>\n",
       "      <td>0.315489</td>\n",
       "    </tr>\n",
       "    <tr>\n",
       "      <th>1061</th>\n",
       "      <td>1061</td>\n",
       "      <td>ACTGCTTTGACACTGCTTACGATTTGGAAG</td>\n",
       "      <td>0.089571</td>\n",
       "    </tr>\n",
       "    <tr>\n",
       "      <th>1062</th>\n",
       "      <td>1062</td>\n",
       "      <td>TACCCCGAGACCTCGACGGAGGCCTGGCCG</td>\n",
       "      <td>0.263017</td>\n",
       "    </tr>\n",
       "    <tr>\n",
       "      <th>1063</th>\n",
       "      <td>1063</td>\n",
       "      <td>TACCCTCCAGATCGTCAATCGCCCCGGCAT</td>\n",
       "      <td>0.362400</td>\n",
       "    </tr>\n",
       "  </tbody>\n",
       "</table>\n",
       "<p>1064 rows × 3 columns</p>\n",
       "</div>"
      ],
      "text/plain": [
       "      Sequence ID                  30-nt sequence  Prediction\n",
       "0               0  TTCACAGTCATACCTATAACAGCGAGGTTC    0.689675\n",
       "1               1  TTGCAGGTATGTAAGTAATCATAGTGGAGA    0.596946\n",
       "2               2  AGCCAGTCTACATAACACGCCCATGGGCGC    0.595669\n",
       "3               3  CGTACGCAACCTGCTCAGCGCCTACGGCGA    0.291837\n",
       "4               4  GCTGAGCAGGTTGCGTACGTGAAGGGGCCG    0.418130\n",
       "...           ...                             ...         ...\n",
       "1059         1059  ATTGTAGCATCAAAATTTGGGACCTGGCTC    0.343832\n",
       "1060         1060  GCCGCCTGCTACGTCGTGCGCGGCGGGACC    0.315489\n",
       "1061         1061  ACTGCTTTGACACTGCTTACGATTTGGAAG    0.089571\n",
       "1062         1062  TACCCCGAGACCTCGACGGAGGCCTGGCCG    0.263017\n",
       "1063         1063  TACCCTCCAGATCGTCAATCGCCCCGGCAT    0.362400\n",
       "\n",
       "[1064 rows x 3 columns]"
      ]
     },
     "execution_count": 5,
     "metadata": {},
     "output_type": "execute_result"
    }
   ],
   "source": [
    "koike_path = '../Data/3. Testing datasets/1. Regression (U6)/3. mESC (Koike-Yusa) predictions.csv'\n",
    "\n",
    "predictions = predict_file(koike_path, promoter='u6', classifier=False, save=True)\n",
    "\n",
    "predictions"
   ]
  }
 ],
 "metadata": {
  "colab": {
   "collapsed_sections": [],
   "name": "Train-Predict.ipynb",
   "provenance": []
  },
  "kernelspec": {
   "display_name": "Python 3 (ipykernel)",
   "language": "python",
   "name": "python3"
  },
  "language_info": {
   "codemirror_mode": {
    "name": "ipython",
    "version": 3
   },
   "file_extension": ".py",
   "mimetype": "text/x-python",
   "name": "python",
   "nbconvert_exporter": "python",
   "pygments_lexer": "ipython3",
   "version": "3.7.12"
  }
 },
 "nbformat": 4,
 "nbformat_minor": 1
}
